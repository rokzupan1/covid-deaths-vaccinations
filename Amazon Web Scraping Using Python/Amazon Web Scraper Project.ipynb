{
 "cells": [
  {
   "cell_type": "code",
   "execution_count": 1,
   "id": "98e09517-c269-418f-820d-c566bc69cb69",
   "metadata": {
    "tags": []
   },
   "outputs": [],
   "source": [
    "# import libraries\n",
    "\n",
    "from bs4 import BeautifulSoup\n",
    "import requests\n",
    "import smtplib #for sending emails to yourself\n",
    "import time\n",
    "import datetime"
   ]
  },
  {
   "cell_type": "code",
   "execution_count": 2,
   "id": "97eef885-40b1-415f-bd72-3f73725d666e",
   "metadata": {
    "tags": []
   },
   "outputs": [
    {
     "name": "stdout",
     "output_type": "stream",
     "text": [
      "        Refrigeration Technologies Viper Pan & Drain Treatment 1 Qt, Yellow       \n",
      "111 ratings\n"
     ]
    }
   ],
   "source": [
    "# Connect to website:\n",
    "\n",
    "URL = 'https://www.amazon.com/dp/B08R6HX6XD?ref_=cm_sw_r_cp_ud_dp_6GDPWWJK45CWRB2VZQKD&th=1'\n",
    "headers = {'User-Agent': 'Mozilla/5.0 (Windows NT 10.0; Win64; x64) AppleWebKit/537.36 (KHTML, like Gecko) Chrome/110.0.0.0 Safari/537.36',\n",
    "           'Referer': 'https://www.google.com'}\n",
    "page = requests.get(URL, headers=headers)\n",
    "soup = BeautifulSoup(page.content, \"html.parser\")\n",
    "title = soup.find(id=\"productTitle\").get_text()\n",
    "numberofreviews = soup.find(id=\"acrCustomerReviewText\").get_text()\n",
    "\n",
    "print(title)\n",
    "print(numberofreviews)\n"
   ]
  },
  {
   "cell_type": "code",
   "execution_count": 3,
   "id": "735fbb98-6977-46fb-a6b4-f2c1844671d7",
   "metadata": {
    "tags": []
   },
   "outputs": [
    {
     "name": "stdout",
     "output_type": "stream",
     "text": [
      "Refrigeration Technologies Viper Pan & Drain Treatment 1 Qt, Yellow\n",
      "111\n"
     ]
    },
    {
     "data": {
      "text/plain": [
       "str"
      ]
     },
     "execution_count": 3,
     "metadata": {},
     "output_type": "execute_result"
    }
   ],
   "source": [
    "title = title.strip()\n",
    "numberofreviews = numberofreviews.strip()[:3]\n",
    "\n",
    "print(title)\n",
    "print(numberofreviews)\n",
    "type(numberofreviews)"
   ]
  },
  {
   "cell_type": "code",
   "execution_count": 4,
   "id": "92623e6e-1707-4ac0-a3a5-76235db1fda1",
   "metadata": {
    "tags": []
   },
   "outputs": [
    {
     "name": "stdout",
     "output_type": "stream",
     "text": [
      "2023-03-02\n"
     ]
    }
   ],
   "source": [
    "import datetime\n",
    "today = datetime.date.today()\n",
    "print(today)"
   ]
  },
  {
   "cell_type": "code",
   "execution_count": 5,
   "id": "e5ec5701-d748-4317-baeb-0bd1a53b8501",
   "metadata": {
    "tags": []
   },
   "outputs": [],
   "source": [
    "import csv\n",
    "\n",
    "header = ['Title', 'Number of Reviews', 'Date']\n",
    "data = [title, numberofreviews, today]\n",
    "\n",
    "with open('AmazonWebScraperDataset.csv', 'w', newline='', encoding='UTF8') as f:\n",
    "    writer = csv.writer(f)\n",
    "    writer.writerow(header)\n",
    "    writer.writerow(data)"
   ]
  },
  {
   "cell_type": "code",
   "execution_count": 6,
   "id": "1fc69be6-bc2c-45bd-835a-30ef961f89a0",
   "metadata": {
    "tags": []
   },
   "outputs": [
    {
     "data": {
      "text/html": [
       "<div>\n",
       "<style scoped>\n",
       "    .dataframe tbody tr th:only-of-type {\n",
       "        vertical-align: middle;\n",
       "    }\n",
       "\n",
       "    .dataframe tbody tr th {\n",
       "        vertical-align: top;\n",
       "    }\n",
       "\n",
       "    .dataframe thead th {\n",
       "        text-align: right;\n",
       "    }\n",
       "</style>\n",
       "<table border=\"1\" class=\"dataframe\">\n",
       "  <thead>\n",
       "    <tr style=\"text-align: right;\">\n",
       "      <th></th>\n",
       "      <th>Title</th>\n",
       "      <th>Number of Reviews</th>\n",
       "      <th>Date</th>\n",
       "    </tr>\n",
       "  </thead>\n",
       "  <tbody>\n",
       "    <tr>\n",
       "      <th>0</th>\n",
       "      <td>Refrigeration Technologies Viper Pan &amp; Drain T...</td>\n",
       "      <td>111</td>\n",
       "      <td>2023-03-02</td>\n",
       "    </tr>\n",
       "  </tbody>\n",
       "</table>\n",
       "</div>"
      ],
      "text/plain": [
       "                                               Title  Number of Reviews  \\\n",
       "0  Refrigeration Technologies Viper Pan & Drain T...                111   \n",
       "\n",
       "         Date  \n",
       "0  2023-03-02  "
      ]
     },
     "execution_count": 6,
     "metadata": {},
     "output_type": "execute_result"
    }
   ],
   "source": [
    "import pandas as pd\n",
    "df = pd.read_csv('AmazonWebScraperDataset.csv')\n",
    "df"
   ]
  },
  {
   "cell_type": "code",
   "execution_count": 7,
   "id": "f05ef8ce-1251-4e71-9135-27da431b2300",
   "metadata": {
    "tags": []
   },
   "outputs": [],
   "source": [
    "#Now we are appending data to csv\n",
    "\n",
    "with open('AmazonWebScraperDataset.csv', 'a+', newline='', encoding='UTF8') as f:\n",
    "    writer = csv.writer(f)\n",
    "    writer.writerow(data)"
   ]
  },
  {
   "cell_type": "code",
   "execution_count": 8,
   "id": "8c0bab58-b699-4cb0-bdea-2464bef116c7",
   "metadata": {
    "tags": []
   },
   "outputs": [],
   "source": [
    "def check_review():\n",
    "    URL = 'https://www.amazon.com/dp/B08R6HX6XD?ref_=cm_sw_r_cp_ud_dp_6GDPWWJK45CWRB2VZQKD&th=1'\n",
    "    headers = {'User-Agent': 'Mozilla/5.0 (Windows NT 10.0; Win64; x64) AppleWebKit/537.36 (KHTML, like Gecko) Chrome/110.0.0.0 Safari/537.36',\n",
    "           'Referer': 'https://www.google.com'}\n",
    "    page = requests.get(URL, headers=headers)\n",
    "    soup = BeautifulSoup(page.content, \"html.parser\")\n",
    "    title = soup.find(id=\"productTitle\").get_text()\n",
    "    numberofreviews = soup.find(id=\"acrCustomerReviewText\").get_text()\n",
    "    \n",
    "    title = title.strip()\n",
    "    numberofreviews = numberofreviews.strip()[:3]\n",
    "    \n",
    "    import datetime\n",
    "    today = datetime.date.today()\n",
    "    print(today)\n",
    "    \n",
    "    import csv\n",
    "    header = ['Title', 'Number of Reviews', 'Date']\n",
    "    data = [title, numberofreviews, today]\n",
    "    \n",
    "    with open('AmazonWebScraperDataset.csv', 'a+', newline='', encoding='UTF8') as f:\n",
    "        writer = csv.writer(f)\n",
    "        writer.writerow(data)\n",
    "\n",
    "    "
   ]
  },
  {
   "cell_type": "code",
   "execution_count": null,
   "id": "2a8ddd63-38ef-4acf-8f1e-c4a43b2e7d9d",
   "metadata": {},
   "outputs": [],
   "source": [
    "while(True):\n",
    "    check_review()\n",
    "    time.sleep(3)"
   ]
  },
  {
   "cell_type": "code",
   "execution_count": 15,
   "id": "8a738594-5e83-4d68-8dc1-725c33c7bebd",
   "metadata": {
    "tags": []
   },
   "outputs": [
    {
     "data": {
      "text/html": [
       "<div>\n",
       "<style scoped>\n",
       "    .dataframe tbody tr th:only-of-type {\n",
       "        vertical-align: middle;\n",
       "    }\n",
       "\n",
       "    .dataframe tbody tr th {\n",
       "        vertical-align: top;\n",
       "    }\n",
       "\n",
       "    .dataframe thead th {\n",
       "        text-align: right;\n",
       "    }\n",
       "</style>\n",
       "<table border=\"1\" class=\"dataframe\">\n",
       "  <thead>\n",
       "    <tr style=\"text-align: right;\">\n",
       "      <th></th>\n",
       "      <th>Title</th>\n",
       "      <th>Number of Reviews</th>\n",
       "      <th>Date</th>\n",
       "    </tr>\n",
       "  </thead>\n",
       "  <tbody>\n",
       "    <tr>\n",
       "      <th>0</th>\n",
       "      <td>Refrigeration Technologies Viper Pan &amp; Drain T...</td>\n",
       "      <td>111</td>\n",
       "      <td>2023-03-02</td>\n",
       "    </tr>\n",
       "    <tr>\n",
       "      <th>1</th>\n",
       "      <td>Refrigeration Technologies Viper Pan &amp; Drain T...</td>\n",
       "      <td>111</td>\n",
       "      <td>2023-03-02</td>\n",
       "    </tr>\n",
       "    <tr>\n",
       "      <th>2</th>\n",
       "      <td>Refrigeration Technologies Viper Pan &amp; Drain T...</td>\n",
       "      <td>111</td>\n",
       "      <td>2023-03-02</td>\n",
       "    </tr>\n",
       "    <tr>\n",
       "      <th>3</th>\n",
       "      <td>Refrigeration Technologies Viper Pan &amp; Drain T...</td>\n",
       "      <td>111</td>\n",
       "      <td>2023-03-02</td>\n",
       "    </tr>\n",
       "    <tr>\n",
       "      <th>4</th>\n",
       "      <td>Refrigeration Technologies Viper Pan &amp; Drain T...</td>\n",
       "      <td>111</td>\n",
       "      <td>2023-03-02</td>\n",
       "    </tr>\n",
       "    <tr>\n",
       "      <th>5</th>\n",
       "      <td>Refrigeration Technologies Viper Pan &amp; Drain T...</td>\n",
       "      <td>111</td>\n",
       "      <td>2023-03-02</td>\n",
       "    </tr>\n",
       "    <tr>\n",
       "      <th>6</th>\n",
       "      <td>Refrigeration Technologies Viper Pan &amp; Drain T...</td>\n",
       "      <td>111</td>\n",
       "      <td>2023-03-02</td>\n",
       "    </tr>\n",
       "    <tr>\n",
       "      <th>7</th>\n",
       "      <td>Refrigeration Technologies Viper Pan &amp; Drain T...</td>\n",
       "      <td>111</td>\n",
       "      <td>2023-03-02</td>\n",
       "    </tr>\n",
       "  </tbody>\n",
       "</table>\n",
       "</div>"
      ],
      "text/plain": [
       "                                               Title  Number of Reviews  \\\n",
       "0  Refrigeration Technologies Viper Pan & Drain T...                111   \n",
       "1  Refrigeration Technologies Viper Pan & Drain T...                111   \n",
       "2  Refrigeration Technologies Viper Pan & Drain T...                111   \n",
       "3  Refrigeration Technologies Viper Pan & Drain T...                111   \n",
       "4  Refrigeration Technologies Viper Pan & Drain T...                111   \n",
       "5  Refrigeration Technologies Viper Pan & Drain T...                111   \n",
       "6  Refrigeration Technologies Viper Pan & Drain T...                111   \n",
       "7  Refrigeration Technologies Viper Pan & Drain T...                111   \n",
       "\n",
       "         Date  \n",
       "0  2023-03-02  \n",
       "1  2023-03-02  \n",
       "2  2023-03-02  \n",
       "3  2023-03-02  \n",
       "4  2023-03-02  \n",
       "5  2023-03-02  \n",
       "6  2023-03-02  \n",
       "7  2023-03-02  "
      ]
     },
     "execution_count": 15,
     "metadata": {},
     "output_type": "execute_result"
    }
   ],
   "source": [
    "import pandas as pd\n",
    "df = pd.read_csv('AmazonWebScraperDataset.csv')\n",
    "df"
   ]
  },
  {
   "cell_type": "code",
   "execution_count": null,
   "id": "ca9c8eb7-a59f-4dc7-8d51-595ab98e23ec",
   "metadata": {},
   "outputs": [],
   "source": []
  }
 ],
 "metadata": {
  "kernelspec": {
   "display_name": "Python 3 (ipykernel)",
   "language": "python",
   "name": "python3"
  },
  "language_info": {
   "codemirror_mode": {
    "name": "ipython",
    "version": 3
   },
   "file_extension": ".py",
   "mimetype": "text/x-python",
   "name": "python",
   "nbconvert_exporter": "python",
   "pygments_lexer": "ipython3",
   "version": "3.10.8"
  }
 },
 "nbformat": 4,
 "nbformat_minor": 5
}
